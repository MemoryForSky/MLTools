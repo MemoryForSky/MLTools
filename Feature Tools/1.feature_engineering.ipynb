{
 "cells": [
  {
   "cell_type": "markdown",
   "metadata": {},
   "source": [
    "### 特征工具"
   ]
  },
  {
   "cell_type": "code",
   "execution_count": null,
   "metadata": {},
   "outputs": [],
   "source": [
    "from sklearn.datasets import load_iris\n",
    "# 导入IRIS数据集\n",
    "iris = load_iris()"
   ]
  },
  {
   "cell_type": "markdown",
   "metadata": {},
   "source": [
    "#### 1、特征无量纲化"
   ]
  },
  {
   "cell_type": "code",
   "execution_count": null,
   "metadata": {},
   "outputs": [],
   "source": [
    "# 标准化，返回值为标准化后的数据\n",
    "from sklearn.preprocessing import StandardScaler\n",
    "StandardScaler().fit_transform(iris.data)\n",
    "\n",
    "# 归一化，返回值为缩放到[0, 1]区间的数据\n",
    "from sklearn.preprocessing import MinMaxScaler\n",
    "MinMaxScaler().fit_transform(iris.data)\n",
    "\n",
    "# 正则化，返回均值为0，方差为1的数据\n",
    "from sklearn.preprocessing import Normalizer\n",
    "Normalizer().fit_transform(iris.data)"
   ]
  },
  {
   "cell_type": "markdown",
   "metadata": {},
   "source": [
    "#### 2、多项式or对数变换\n",
    "\n",
    "- 多项式变换\n",
    "\n",
    "按照指定的degree，进行多项式操作从而衍生出新变量(当然这是针对每一列特征内的操作)。\n",
    "\n",
    "- 对数变换\n",
    "\n",
    "一个特征在当前的分布下无法有明显的区分度，但一个小小的变换则可以带来意想不到的效果\n",
    "\n",
    "这个操作就是直接进行一个对数转换，改变原先的数据分布，而可以达到的作用主要有:\n",
    "\n",
    "1）取完对数之后可以缩小数据的绝对数值，方便计算；\n",
    "\n",
    "2）取完对数之后可以把乘法计算转换为加法计算；\n",
    "\n",
    "3）还有就是分布改变带来的意想不到的效果。\n",
    "\n",
    "numpy库里就有好几类对数转换的方法，可以通过from numpy import xxx 进行导入使用。\n",
    "\n",
    "log：计算自然对数\n",
    "\n",
    "log10：底为10的log\n",
    "\n",
    "log2：底为2的log\n",
    "\n",
    "log1p：底为e的log"
   ]
  },
  {
   "cell_type": "code",
   "execution_count": null,
   "metadata": {},
   "outputs": [],
   "source": [
    "# 多项式转换\n",
    "# 参数degree为度，默认值为2\n",
    "from sklearn.preprocessing import PolynomialFeatures\n",
    "PolynomialFeatures().fit_transform(iris.data)"
   ]
  },
  {
   "cell_type": "code",
   "execution_count": null,
   "metadata": {},
   "outputs": [],
   "source": [
    "# 对数变换\n",
    "from numpy import log1p\n",
    "from sklearn.preprocessing import FunctionTransformer\n",
    "# 自定义转换函数为对数函数的数据变换\n",
    "# 第一个参数是单变元函数\n",
    "FunctionTransformer(log1p).fit_transform(iris.data)"
   ]
  },
  {
   "cell_type": "markdown",
   "metadata": {},
   "source": []
  },
  {
   "cell_type": "code",
   "execution_count": null,
   "metadata": {},
   "outputs": [],
   "source": []
  },
  {
   "cell_type": "code",
   "execution_count": null,
   "metadata": {},
   "outputs": [],
   "source": []
  },
  {
   "cell_type": "code",
   "execution_count": null,
   "metadata": {},
   "outputs": [],
   "source": []
  }
 ],
 "metadata": {
  "kernelspec": {
   "display_name": "Python 3",
   "language": "python",
   "name": "python3"
  },
  "language_info": {
   "codemirror_mode": {
    "name": "ipython",
    "version": 3
   },
   "file_extension": ".py",
   "mimetype": "text/x-python",
   "name": "python",
   "nbconvert_exporter": "python",
   "pygments_lexer": "ipython3",
   "version": "3.6.5"
  }
 },
 "nbformat": 4,
 "nbformat_minor": 2
}
