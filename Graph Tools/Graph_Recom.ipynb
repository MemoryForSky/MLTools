{
 "cells": [
  {
   "cell_type": "code",
   "execution_count": 1,
   "metadata": {},
   "outputs": [],
   "source": [
    "import networkx as nx"
   ]
  },
  {
   "cell_type": "markdown",
   "metadata": {},
   "source": [
    "### 1.1 使用networkx构建图"
   ]
  },
  {
   "cell_type": "code",
   "execution_count": null,
   "metadata": {},
   "outputs": [],
   "source": [
    "edges = spark.sql('select * from ap_khcp_zhzx.edges')\n",
    "edges_pd = edges.toPandas()\n",
    "\n",
    "G = nx.DiGraph()\n",
    "for _, row in edges_pd.iterrows():\n",
    "    G.add_edge(row['src'], row['dst'], weight=row['weight'])"
   ]
  },
  {
   "cell_type": "markdown",
   "metadata": {},
   "source": [
    "### 1.2 找到core_customers已经签约的产品"
   ]
  },
  {
   "cell_type": "code",
   "execution_count": null,
   "metadata": {},
   "outputs": [],
   "source": [
    "from collections import defaultdict\n",
    "\n",
    "signed_products = defaultdict()\n",
    "\n",
    "core_customers = spark.sql('select id from ap_khcp_zhzx.core_customers').collect()\n",
    "core_customers = [row.id for row in core_customers]\n",
    "\n",
    "for customer in core_customers:\n",
    "    products = []\n",
    "    # customer的邻接点\n",
    "    for item in G.adj[customer]:\n",
    "        if item >= 51 and item <= 69:\n",
    "            products.append(item)\n",
    "    \n",
    "    signed_products[customer] = products"
   ]
  },
  {
   "cell_type": "markdown",
   "metadata": {},
   "source": [
    "### 1.3 将处理好的已签约产品信息保存到Hive"
   ]
  },
  {
   "cell_type": "code",
   "execution_count": null,
   "metadata": {},
   "outputs": [],
   "source": [
    "signed_product = sc.parallelize([(k,) + (','.join(map(str,v)), ) for k, v in signed_products.items()]).toDF(['id', 'signed'])\n",
    "signed_product.createOrReplaceTempView('signed_product')\n",
    "sqlContext.sql('drop table ap_khcp_zhzx.signed_product')\n",
    "sqlContext.sql('create table ap_khcp_zhzx.signed_product as select * from signed_product')"
   ]
  },
  {
   "cell_type": "code",
   "execution_count": null,
   "metadata": {},
   "outputs": [],
   "source": [
    "# 测试寻找最短路径的接口\n",
    "path = nx.shortest_path(G, 59, 88303)\n",
    "print(path)"
   ]
  },
  {
   "cell_type": "markdown",
   "metadata": {},
   "source": [
    "### 1.4 采用page rank推荐\n",
    "\n",
    "通过多进程的方式解决单个personalization page rank速度过慢的问题（采用function的方式）"
   ]
  },
  {
   "cell_type": "code",
   "execution_count": null,
   "metadata": {},
   "outputs": [],
   "source": [
    "import operator\n",
    "import multiprocessing\n",
    "import networkx as nx\n",
    "from collections import defaultdict\n",
    "from operator import itemgetter\n",
    "from multiprocessing import Pool\n",
    "\n",
    "def calculatePPR(G, target_vertex_list, ppr_result, recommended_items=20):\n",
    "    for target_vertex in target_vertex_list:\n",
    "        ppr = nx.pagerank(G, personalization={target_vertex: 1}, weight='weight')\n",
    "        ranking = sorted(ppr.items(), key=itemgetter(1), reverse=True)\n",
    "        ranking = [ key for key, values in ranking if key <= 83 and key >= 51] # updated\n",
    "        ranking = ranking[:rocommended_items]\n",
    "        ppr_result[target_vertex] = ranking\n",
    "\n",
    "if __name__ == \"__main__\":\n",
    "    # 提取数据\n",
    "    vertex_list = spark.sql('select id from ap_khcp_zhzx.core_customers_sszjc where id>121497').collect()\n",
    "    vertex_list = [item.id for item in vertexz_list[0:160]]\n",
    "    \n",
    "    # construct a manager dict for multiple process to access\n",
    "    mgr = multiprocessing.Manager()\n",
    "    ppr_result = mgr.dict()\n",
    "    jobs = []\n",
    "    \n",
    "    # construct 32 processes to calculate ppr\n",
    "    for i in range(32):\n",
    "        chunks = [vertex_list[x] for x in range(i, len(vertex_list), 32)]\n",
    "        jobs.append(multiprocessing.Process(target=calculatePPR, args=(G, chunks, ppr_result))\n",
    "                    \n",
    "    for j in jobs:\n",
    "        j.start()\n",
    "    \n",
    "    for j in jobs:\n",
    "        j.join()\n",
    "    \n",
    "    print('The calculated personal pagerank result have ' + str(len(ppr_result.keys())) + 'items.')"
   ]
  },
  {
   "cell_type": "markdown",
   "metadata": {},
   "source": [
    "### 1.5 保存推荐结果"
   ]
  },
  {
   "cell_type": "code",
   "execution_count": null,
   "metadata": {},
   "outputs": [],
   "source": [
    "ppr_df = sc.parallelize([(k,) + (','.join(map(str,v)),) for k,v in ppr_result.items()]).toDF(['id', 'recommended'])\n",
    "ppr_df.createTempView('ppr_result')\n",
    "sqlContext.sql('drop table ap_khcp_zhzx.recommendation')\n",
    "sqlContext.sql('create table ap_khcp_zhzx.recommendation as select * from ppr_result')"
   ]
  },
  {
   "cell_type": "markdown",
   "metadata": {},
   "source": [
    "### 1.6 构建绘图function，传入一个节点，绘制一个包含最短路径，签约产品以及公司标签的图"
   ]
  },
  {
   "cell_type": "code",
   "execution_count": null,
   "metadata": {},
   "outputs": [],
   "source": [
    "import matplotlib.pyplot as plt\n",
    "from collections import defaultdict\n",
    "\n",
    "def draw_relation(G, target_vertex):\n",
    "    # 处理id与product名称的mapping关系\n",
    "    id_product = defaultdict（）\n",
    "    product.id ={'单位结算卡签约': 51，'定时资金池签约': 52, '对公一户通签约': 53, '电子商业汇票签约': 59, \\\n",
    "                 '现金管理收款签约': 61, '跨境双向池签约': 69}\n",
    "    for k, v in product_id.items():\n",
    "        id_product[v] = k\n",
    "    \n",
    "    # 将id和product的dict处理成为caption的形式\n",
    "    cap_str=\"\"\n",
    "    for k, v in id_product.items():\n",
    "        cap_str += str(k)\n",
    "        cap_str += \"：\"\n",
    "        cap_str += str(v)\n",
    "        cap_str += \"\\n\"\n",
    "        \n",
    "    # 得到所有的边，包含推荐产品之间的最短路径，和已经签约的产品\n",
    "    edges_list = []\n",
    "    recommended_items = spark.sql(\"select recommended from ap_khcp_zhzx.recommendation where id={}\".format(target_vertex)).collect()\n",
    "    recommended_items = recommended_items[0].recommended.split（\",\"）\n",
    "    recommended_items = [int(item) for item in recommended_items]\n",
    "    related_items = [k for k, v in G.adj[target_vertex].items()]\n",
    "    for item in related items:\n",
    "        edges_list.appen((target_vertex, item))\n",
    "    for item in recommended_items:\n",
    "        path = nx.shortest_path(G, target_vertex, item)\n",
    "        for i in range(1, len(path)):\n",
    "            edges_list.append((path[i-1], path[i]))\n",
    "            \n",
    "    # 将产品之间的关系提取出来，并补充到edges_list中\n",
    "    pro_rela_edges = spark.sql（\"select * from ap_khcp_zhzx.edge_pro_rela\"）collect()\n",
    "    pro_rela_edges = [(dst, src) for dst, src, _ in pro_rela_edges]\n",
    "    # 将产品之间的关系补充到边的集合中\n",
    "    edges_list = list(set(edges_list))\n",
    "    edges_list.extend(pro_rela_edges)\n",
    "    print(edges_list)\n",
    "    \n",
    "    tempG = nx.DiGraph()\n",
    "    tempG.add_edges_from(edges_list)\n",
    "    \n",
    "    # 开始绘制5中不同风格的图，加上一种caption\n",
    "    # nx.draw(tempG，with_labels=True，font_weight=bold)\n",
    "    cust_name = spark.sql(\"select * from ap_khcp_zhzx.cust_no_id where id='{}'\".format(target_vertex)).collect()\n",
    "    cust_name = cust_name[0].name\n",
    "    # plt.rcParams['font.sans_serif'] = ['SimHei']\n",
    "    plt.title(u\"产品代号：{name}\".format(name=cust_name))\n",
    "    plt.subplots(2, 3, figsize=(15,15))\n",
    "    \n",
    "    plt.subplot(231)\n",
    "    nx.draw_spring(tempG, with_labels=True, font_weight=\"bold\")\n",
    "    \n",
    "    plt.subplot(232)\n",
    "    nx.draw_kamada_kawai(tempG, with_labels=True, font_weight=\"bold\")\n",
    "    \n",
    "    plt.subplot(233)\n",
    "    nx.draw_spectral(tempG, with_labels=True, font_weight=\"bold\")\n",
    "    \n",
    "    plt.subplot(234)\n",
    "    nx.draw_spring(tempG, with_labels=True, font_weight=\"bold\")\n",
    "    \n",
    "    plt.subplot(235)\n",
    "    nx.draw_shell(tempG, with_labels=True, font_weight=\"bold\")\n",
    "    \n",
    "    p1t.subplot(236)\n",
    "    plt.text(.5, .5, cap_str, fontsize=12, horizontalalignment='center', verticalalignment='center')\n",
    "    \n",
    "    plt.show（）"
   ]
  },
  {
   "cell_type": "markdown",
   "metadata": {},
   "source": [
    "### 1.7 批量输出公司与推荐的结算产品之间的最短路径"
   ]
  },
  {
   "cell_type": "code",
   "execution_count": null,
   "metadata": {},
   "outputs": [],
   "source": [
    "from collections import namedtuple\n",
    "\n",
    "target_vertex_list = spark.sql('select id from ap_khcp_zhzx.recommodation').collect()\n",
    "target_vertex_list = [int(row.id) for row in target_vertex_list]\n",
    "\n",
    "Record = namedtuple('Record', ['id', 'product', 'path'])\n",
    "record_list = []\n",
    "for target_vertex in target_vertex_list:\n",
    "    # 获得推荐的产品\n",
    "    recommended_products = spark.sql(\"select recommended from ap_khcp_zhzx.recommodation where id='{}'\".format(target_vertex)).collect()\n",
    "    recommended_products = [row.recommended for row in recommended_products]\n",
    "    recommended_products = recommended_products[0l.split(\",\")\n",
    "                                                \n",
    "    # 获得已经签约的产品\n",
    "    signed_products = spark.sql(\"select signed from ap_khcp_zhzx.signed_product where id='{}'\".format(target_vertex)).collect()\n",
    "    signed_products = [row.signed for row in signed_products]\n",
    "    signed_products = signed_products[0l.split(\",\")\n",
    "                                      \n",
    "    # 找到新推荐的产品\n",
    "    new_products = []\n",
    "    for item in recommended_products:\n",
    "        if item not in signed_products:\n",
    "            new_products.append(item)\n",
    "                                      \n",
    "    # 找到新推荐的产品与当前target_vertex公司之间的相关关系\n",
    "    for item in new_products:\n",
    "        path = nx.shortest_path(G, target_vertex, int(item))\n",
    "        rec = Record(target_vertex, item, \",\".join(str(p) for p in path))\n",
    "        record_list.append(rec)"
   ]
  },
  {
   "cell_type": "code",
   "execution_count": null,
   "metadata": {},
   "outputs": [],
   "source": [
    "record_df = sc.createDataFrame(record_list)\n",
    "record_df.createTempView('shortest_path')\n",
    "sqlContext.sql('create table shortest_path_recommendation as select * from shortest_path')"
   ]
  },
  {
   "cell_type": "code",
   "execution_count": null,
   "metadata": {},
   "outputs": [],
   "source": []
  },
  {
   "cell_type": "code",
   "execution_count": null,
   "metadata": {},
   "outputs": [],
   "source": []
  },
  {
   "cell_type": "code",
   "execution_count": null,
   "metadata": {},
   "outputs": [],
   "source": []
  },
  {
   "cell_type": "code",
   "execution_count": null,
   "metadata": {},
   "outputs": [],
   "source": []
  },
  {
   "cell_type": "code",
   "execution_count": null,
   "metadata": {},
   "outputs": [],
   "source": []
  }
 ],
 "metadata": {
  "kernelspec": {
   "display_name": "Python 3",
   "language": "python",
   "name": "python3"
  },
  "language_info": {
   "codemirror_mode": {
    "name": "ipython",
    "version": 3
   },
   "file_extension": ".py",
   "mimetype": "text/x-python",
   "name": "python",
   "nbconvert_exporter": "python",
   "pygments_lexer": "ipython3",
   "version": "3.6.5"
  }
 },
 "nbformat": 4,
 "nbformat_minor": 2
}
