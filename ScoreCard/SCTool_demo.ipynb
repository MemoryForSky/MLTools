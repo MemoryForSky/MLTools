{
 "cells": [
  {
   "cell_type": "code",
   "execution_count": 1,
   "metadata": {
    "pycharm": {
     "is_executing": false,
     "name": "#%%\n"
    }
   },
   "outputs": [
    {
     "name": "stderr",
     "output_type": "stream",
     "text": [
      "C:\\Users\\zh\\Anaconda3\\lib\\site-packages\\statsmodels\\tools\\_testing.py:19: FutureWarning: pandas.util.testing is deprecated. Use the functions in the public API at pandas.testing instead.\n",
      "  import pandas.util.testing as tm\n"
     ]
    }
   ],
   "source": [
    "import re\n",
    "import io \n",
    "import sys \n",
    "import warnings\n",
    "import dateutil\n",
    "import datetime \n",
    "import pandas as pd \n",
    "import numpy as np \n",
    "import seaborn as sns \n",
    "from pandas. io import sql \n",
    "import matplotlib. pyplot as plt \n",
    "import matplotlib. ticker as mtick\n",
    "from sklearn. utils import shuffle \n",
    "from sklearn. model_selection import train_test_split \n",
    "from sklearn. linear_model import LogisticRegression \n",
    "from sklearn. metrics import roc_curve, auc \n",
    "import statsmodels. api as sm \n",
    "import toad \n",
    "from toad.metrics import KS, AUC \n",
    "from toad.plot import badrate_plot, bin_plot\n",
    "sys.path.append(\"..\")\n",
    "warnings.filterwarnings('ignore')\n",
    "pd.set_option('display.max_rows', 500)\n",
    "pd.set_option('display.max_columns', 500)\n",
    "pd.set_option('display.max_info_columns', 500)\n",
    "plt.rcParams['font.sans-serif']=['SimHei']\n",
    "plt.rcParams['axes.unicode_minus'] = False "
   ]
  },
  {
   "cell_type": "code",
   "execution_count": null,
   "metadata": {},
   "outputs": [],
   "source": [
    "from SCtools import DataPreprocessing, VarsFilter, BuildModel, ValidationModel, PersistModel, PredictScore"
   ]
  },
  {
   "cell_type": "markdown",
   "metadata": {
    "pycharm": {
     "is_executing": false,
     "name": "#%% md \n"
    }
   },
   "source": [
    "### 1 数据预处理"
   ]
  },
  {
   "cell_type": "code",
   "execution_count": null,
   "metadata": {
    "pycharm": {
     "name": "#%% \n"
    }
   },
   "outputs": [],
   "source": [
    "data = pd.read_excel('./ccb smp s.xlsx')\n",
    "feat_info = pd.read_excel('./var_list_new2.x1sx')\n",
    "print(\"训练数据集样本量：{}，其中负样本量：{}，正样本量：{}\".format(data.shape[0], data['target'].sum(), \n",
    "                                                                    data.shape[0] - data['target'].sum()))"
   ]
  },
  {
   "cell_type": "code",
   "execution_count": null,
   "metadata": {
    "pycharm": {
     "name": "#%%\n"
    }
   },
   "outputs": [],
   "source": [
    "data_info = toad.detector.detect(data)\n",
    "data_info"
   ]
  },
  {
   "cell_type": "code",
   "execution_count": null,
   "metadata": {},
   "outputs": [],
   "source": [
    "data_iv = toad.quality(data, target='target')"
   ]
  },
  {
   "cell_type": "code",
   "execution_count": null,
   "metadata": {},
   "outputs": [],
   "source": [
    "dp = DataPreprocessing(data, 'target', feat_info)\n",
    "# 特征粗过滤\n",
    "drop_dict = dp.feat_filter(empty=0.5, iv=0.02, corr=1)\n",
    "# 划分训练集和测试集\n",
    "dp.split_data(test_size=0.3, random_state=6545, stratify=dp.selected_data[dp.y])\n",
    "# 分箱 + WOE转换\n",
    "combiner = toad.transform.Combiner()\n",
    "binned_data_tr = combiner.fit_transform(dp.data_tr, y=dp.y, method='chi', min_samples=0.05, \n",
    "                                        exclude=['type'], empty_separate=True)\n",
    "data_tr_woe, data_ts_woe = dp.bins_woe(combiner, binned_data_tr)"
   ]
  },
  {
   "cell_type": "code",
   "execution_count": null,
   "metadata": {},
   "outputs": [],
   "source": [
    "adj_bins = {}\n",
    "data_tr_woe, data_ts_woe = dp.adj_bins_woe(adj_bins=adj_bins, empty_separate=True)"
   ]
  },
  {
   "cell_type": "markdown",
   "metadata": {},
   "source": [
    "### 2 特征选择\n",
    "\n",
    "- PSI\n",
    "- IV值\n",
    "- 相关性\n",
    "- stepwise\n",
    "- 共线性"
   ]
  },
  {
   "cell_type": "code",
   "execution_count": null,
   "metadata": {},
   "outputs": [],
   "source": [
    "vf = VarsFilter(data_tr_woe, data_ts_woe)\n",
    "vf.vars_stability(psi=0.1)\n",
    "vf.filter_iv(iv=0.01)\n",
    "vf.filter_corr(corr=0.8)\n",
    "data_tr, drop_lst = toad.selection.stepwise(vf.data_tr, estimator='lr', direction='both', criterion='bic',\n",
    "                                            return_drop=True)\n",
    "vf.filter_stepwise(data_tr, drop_lst)\n",
    "vf.filter_vif(vif=3)"
   ]
  },
  {
   "cell_type": "markdown",
   "metadata": {},
   "source": [
    "### 3 逻辑回归模型\n",
    "\n",
    "- 变量系数符号筛选\n",
    "- 变量p-value筛选"
   ]
  },
  {
   "cell_type": "code",
   "execution_count": null,
   "metadata": {},
   "outputs": [],
   "source": [
    "bm = Build_Model(vf.data_tr)\n",
    "# 变量系数筛选：系数均为正\n",
    "bm.filter_coef_pos()\n",
    "# 变量p-value筛选\n",
    "bm.filter_p_value(p_thred=0.5)"
   ]
  },
  {
   "cell_type": "code",
   "execution_count": null,
   "metadata": {},
   "outputs": [],
   "source": [
    "lr = LogisticRegression(class_weight='balanced', C=4)\n",
    "clf = bm.train(lr)"
   ]
  },
  {
   "cell_type": "code",
   "execution_count": null,
   "metadata": {},
   "outputs": [],
   "source": [
    "# 特征信息表\n",
    "df_iv = toad.quality(data_tr_woe[bm.remain_vars + ['target']], target='target')\n",
    "df_iv['chn_name'] = df_iv.index.map(dp.index_name_map)\n",
    "df_coef = pd.DataFrame(lr.coef_[0], bm.remain_vars, columns=['coef'])\n",
    "df_pv = pd.DataFrame(bm.est.pvalues, columns=['p-value'])\n",
    "df_vif = pd.DataFrame(toad.stats.VIF(data_tr_woe[bm.remain_vars]), columns=['vif'])\n",
    "df_psi= pd.DataFrame(toad.metrics.PSI(data_tr_woe[bm.remain_vars], data_ts_woe[bm.remain_vars]), columns=['psi'])\n",
    "df_info = pd.merge(df_iv, df_coef, left_index=True, right_index=True, how='left')\n",
    "df_info = pd.merge(df_info, df_pv, left_index=True, right_index=True, how='left')\n",
    "df_info = pd.merge(df_info, df_vif, left_index=True, right_index=True, how='left')\n",
    "df_info = pd.merge(df_info, df_psi, left_index=True, right_index=True, how='left')\n",
    "df_info.index.name = 'eng_name'\n",
    "df_info = df_info[['chn_name', 'coef', 'iv', 'p-value', 'vif', 'psi']].reset_index()\n",
    "df_info = pd.merge(feat_info[['feat_id', 'feat_2']], df_info, left_on='feat_id', right_on='eng_name', how='right')\n",
    "df_info = df_info.drop('feat_id', axis=1）\n",
    "df_info.rename(columns={'feat_2': 'feat_type'}, inplace=True)\n",
    "df_info['feat_type'] = df_info['feat_type'].fillna('基本信息')"
   ]
  },
  {
   "cell_type": "markdown",
   "metadata": {},
   "source": [
    "### 4 模型评估\n",
    "\n",
    "- AUC/KS\n",
    "- plot\n",
    "- divergence"
   ]
  },
  {
   "cell_type": "code",
   "execution_count": null,
   "metadata": {},
   "outputs": [],
   "source": [
    "vm = ValidationModel(data_tr_woe, data_ts_woe, bm.remain_vars, y='target')\n",
    "# 若模型的训练集和测试集相差过大，查看5中单变量分析，合并分箱或剔除不稳定的变量\n",
    "vm.ks_auc(clf)"
   ]
  },
  {
   "cell_type": "code",
   "execution_count": null,
   "metadata": {},
   "outputs": [],
   "source": [
    "toad.metrics.PSI(vm.EYtr_proba, vm.EYts_proba)"
   ]
  },
  {
   "cell_type": "code",
   "execution_count": null,
   "metadata": {},
   "outputs": [],
   "source": [
    "vm.plot_roc_curve(vm.Ytr, vm.EYtr_proba, co_labels=vm.Yts, co_preds=vm.EYts_proba)"
   ]
  },
  {
   "cell_type": "code",
   "execution_count": null,
   "metadata": {},
   "outputs": [],
   "source": [
    "vm.plot_ks_curve(vm.Ytr, vm.EYtr_proba, title='Train data KS Curve')"
   ]
  },
  {
   "cell_type": "code",
   "execution_count": null,
   "metadata": {},
   "outputs": [],
   "source": [
    "vm.plot_ks_curve(vm.Yts, vm.EYts_proba, title='Test data KS Curve')"
   ]
  },
  {
   "cell_type": "code",
   "execution_count": null,
   "metadata": {},
   "outputs": [],
   "source": [
    "vm.plot_divergence(vm.Ytr, vm.EYtr_proba)"
   ]
  },
  {
   "cell_type": "markdown",
   "metadata": {},
   "source": [
    "### 5 单变量分析\n",
    "\n",
    "**badrate**\n",
    "\n",
    "- train_test_badrate：查看训练集和测试的badrate是否交叉，对于交叉的分箱可以选择合并；\n",
    "- bins_badrate：查看变量分箱的badrate是否单调，不单调的变量根据实际情况判断是否删除；"
   ]
  },
  {
   "cell_type": "code",
   "execution_count": null,
   "metadata": {},
   "outputs": [],
   "source": [
    "plt.rcParams['font.sans-serif'] = ['SimHei']\n",
    "dp.train_test_badrate(bm.remain_vars)"
   ]
  },
  {
   "cell_type": "code",
   "execution_count": null,
   "metadata": {},
   "outputs": [],
   "source": [
    "dp.bins_badrate(bm.remain_vars)"
   ]
  },
  {
   "cell_type": "code",
   "execution_count": null,
   "metadata": {},
   "outputs": [],
   "source": [
    "for i in range(len(bm.remain_vars)):\n",
    "    print(\"'\" + bm.remain_vars[i] + \"':\", dp.bins[bm.remain_vars[i]])"
   ]
  },
  {
   "cell_type": "markdown",
   "metadata": {},
   "source": [
    "### 6 模型报告"
   ]
  },
  {
   "cell_type": "code",
   "execution_count": null,
   "metadata": {},
   "outputs": [],
   "source": [
    "sys.path.append(\"..\")\n",
    "from Metrics import plot_ks_badrate, plot_ks_count\n",
    "tr_bucket_q = toad.metrics.KS_bucket(vm.EYtr_proba, vm.Ytr, bucket=10, method='quantile')\n",
    "tr_bucket_s = toad.metrics.KS_bucket(vm.EYtr_proba, vm.Ytr, bucket=10, method='step')"
   ]
  },
  {
   "cell_type": "code",
   "execution_count": null,
   "metadata": {},
   "outputs": [],
   "source": [
    "vm.plot_ks_badrate(tr_bucket_q, legend='min', plot_lst=['bad_rate', 'ks'])"
   ]
  },
  {
   "cell_type": "code",
   "execution_count": null,
   "metadata": {},
   "outputs": [],
   "source": [
    "vm.plot_badrate_count(tr_bucket_q, legend='min', plot_lst=['bad_rate', 'total'])"
   ]
  },
  {
   "cell_type": "code",
   "execution_count": null,
   "metadata": {},
   "outputs": [],
   "source": [
    "vm.plot_badrate_count(tr_bucket_s, legend='min', plot_1st=['bad_rate', 'total'])"
   ]
  },
  {
   "cell_type": "markdown",
   "metadata": {},
   "source": [
    "### 7 生成评分卡\n",
    "\n",
    "默认参数：\n",
    "\n",
    "- base_score：600\n",
    "- pdo：40\n",
    "- base_odds：5\n",
    "\n",
    "可根据生成的评分卡score_card进行评分"
   ]
  },
  {
   "cell_type": "code",
   "execution_count": null,
   "metadata": {},
   "outputs": [],
   "source": [
    "card = toad.scorecard.ScoreCard(combiner=dp.combiner, \n",
    "                                transer=dp.transer, \n",
    "                                class_weight='balanced', \n",
    "                                C=4, \n",
    "                                base_score=600, \n",
    "                                base_odds=3, \n",
    "                                pdo=40)\n",
    "card.fit(vm.xtr, vm.Ytr)\n",
    "score_card = card.export(to_frame=True)"
   ]
  },
  {
   "cell_type": "markdown",
   "metadata": {},
   "source": [
    "### 8 预测评分"
   ]
  },
  {
   "cell_type": "code",
   "execution_count": null,
   "metadata": {},
   "outputs": [],
   "source": [
    "ss = dp.data_all[bm.remain_vars + ['target']]\n",
    "score = card.predict(ss[bm.remain_vars])\n",
    "score_report = pd.DataFrame(score, columns=['score'])\n",
    "score_report['target'] = ss['target'].values"
   ]
  },
  {
   "cell_type": "code",
   "execution_count": null,
   "metadata": {},
   "outputs": [],
   "source": [
    "score_report = score_report[score_report.score > 420]\n",
    "score_report['bins'] = pd.cut(score_report.score, 10, precision=1)\n",
    "bins_badrate = score_report.groupby('bins')['target'].agg(['count', 'mean']).reset_index()"
   ]
  },
  {
   "cell_type": "code",
   "execution_count": null,
   "metadata": {},
   "outputs": [],
   "source": [
    "vm.plot_score_badrate_count(bins_badrate)"
   ]
  },
  {
   "cell_type": "code",
   "execution_count": null,
   "metadata": {},
   "outputs": [],
   "source": []
  }
 ],
 "metadata": {
  "kernelspec": {
   "display_name": "Python 3",
   "language": "python",
   "name": "python3"
  },
  "language_info": {
   "codemirror_mode": {
    "name": "ipython",
    "version": 3
   },
   "file_extension": ".py",
   "mimetype": "text/x-python",
   "name": "python",
   "nbconvert_exporter": "python",
   "pygments_lexer": "ipython3",
   "version": "3.6.5"
  },
  "pycharm": {
   "stem_cell": {
    "cell_type": "raw",
    "metadata": {
     "collapsed": false
    },
    "source": []
   }
  }
 },
 "nbformat": 4,
 "nbformat_minor": 1
}
